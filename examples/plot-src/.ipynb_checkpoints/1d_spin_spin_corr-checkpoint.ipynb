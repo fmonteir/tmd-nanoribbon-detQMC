{
 "cells": [
  {
   "cell_type": "markdown",
   "metadata": {},
   "source": [
    "# Determinant QMC data visualization"
   ]
  },
  {
   "cell_type": "code",
   "execution_count": 3,
   "metadata": {},
   "outputs": [],
   "source": [
    "import numpy as np\n",
    "import matplotlib.pyplot as plt\n",
    "import os\n",
    "import warnings\n",
    "cwd = os.getcwd()\n",
    "import seaborn as sns\n",
    "sns.set()\n",
    "sns.set_palette(\"Blues_r\")\n",
    "sns.set_style(\"white\")\n",
    "from matplotlib import rcParams\n",
    "rcParams['font.family'] = 'sans-serif'\n",
    "rcParams['font.sans-serif'] = ['Arial']"
   ]
  },
  {
   "cell_type": "markdown",
   "metadata": {},
   "source": [
    "## Load simulation data"
   ]
  },
  {
   "cell_type": "code",
   "execution_count": 4,
   "metadata": {},
   "outputs": [],
   "source": [
    "system = '1d-chain-pbc'\n",
    "N = 2\n",
    "BETA = 2\n",
    "U = 4\n",
    "MU = 0\n",
    "\n",
    "simDir = '../data/' + system + '/N' + str(N)\\\n",
    "+ '-BETA' + str(BETA) + '-U' + str(U) + '-MU' + str(MU)\n",
    "plotDir = '../plots/' + system + '/N' + str(N)\\\n",
    "+ '-BETA' + str(BETA) + '-U' + str(U) + '-MU' + str(MU)"
   ]
  },
  {
   "cell_type": "markdown",
   "metadata": {},
   "source": [
    "## Spin-spin correlations on the lattice"
   ]
  },
  {
   "cell_type": "code",
   "execution_count": 7,
   "metadata": {},
   "outputs": [
    {
     "data": {
      "image/png": "[encoded data removed]",
      "text/plain": [
       "<matplotlib.figure.Figure at 0x1064ca4a8>"
      ]
     },
     "metadata": {},
     "output_type": "display_data"
    }
   ],
   "source": [
    "magCorr = np.loadtxt(simDir + '/EqTimeSzCorrelations.csv', skiprows = 1, delimiter = ',')\n",
    "magCorrErr = np.loadtxt(simDir + '/EqTimeSzCorrelationsError.csv', skiprows = 1, delimiter = ',')\n",
    "\n",
    "plt.errorbar( N - np.arange(N + 1),\\\n",
    "             np.hstack((magCorr[int(N/2), :], magCorr[int(N/2), 0])), linewidth = 0.5,\\\n",
    "            marker = 'o', markersize = 0.5, markeredgewidth = 2,\\\n",
    "             yerr=np.hstack((magCorrErr[int(N/2), :], magCorrErr[int(N/2), 0])),\n",
    "            elinewidth = 1)\n",
    "plt.xlabel(r'$j$')\n",
    "plt.ylabel(r'$\\left\\langle S_i S_j \\right\\rangle$, $i = $' + str(int(N/2)))\n",
    "plt.savefig(plotDir + '/magCorr.png', dpi = 350)"
   ]
  },
  {
   "cell_type": "markdown",
   "metadata": {},
   "source": [
    "## Fourier transform to obtain the structure factor    "
   ]
  },
  {
   "cell_type": "code",
   "execution_count": null,
   "metadata": {},
   "outputs": [],
   "source": [
    "f,ax=plt.subplots(1)\n",
    "\n",
    "n_qs = NSITES\n",
    "qMax = 2*np.pi\n",
    "qs = np.arange(0, qMax + qMax/n_qs, qMax/n_qs)\n",
    "S = np.zeros(n_qs+1)\n",
    "Serr = np.zeros(n_qs+1)\n",
    "\n",
    "for idx, q in enumerate(qs):\n",
    "    for x in range(N):\n",
    "        for y in range(N):\n",
    "            S[idx] += np.cos((x - y) * q ) * magCorr[x, y]\n",
    "            Serr[idx] += abs(np.cos((x - y) * q ) * magCorrErr[x, y])\n",
    "\n",
    "S /=  N\n",
    "Serr /= N\n",
    "\n",
    "ax.errorbar(qs/2/np.pi, S, linewidth = 0.5, markersize = 0.3, marker = 'o',\\\n",
    "           markeredgewidth = 2, yerr=Serr, elinewidth = 0.4)\n",
    "ax.set_xlabel(r'$q$')\n",
    "ax.set_ylabel(r'$S(q)$')\n",
    "ax.set_xticks([0, .5, 1])\n",
    "ax.set_xticklabels([r\"$0$\", r\"$\\pi$\" , r\"$2\\pi$\"])\n",
    "plt.savefig(plotDir + '/S(q).png', dpi = 350)"
   ]
  }
 ],
 "metadata": {
  "kernelspec": {
   "display_name": "Python 3",
   "language": "python",
   "name": "python3"
  },
  "language_info": {
   "codemirror_mode": {
    "name": "ipython",
    "version": 3
   },
   "file_extension": ".py",
   "mimetype": "text/x-python",
   "name": "python",
   "nbconvert_exporter": "python",
   "pygments_lexer": "ipython3",
   "version": "3.6.4"
  }
 },
 "nbformat": 4,
 "nbformat_minor": 2
}
